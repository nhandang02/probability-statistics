{
  "nbformat": 4,
  "nbformat_minor": 0,
  "metadata": {
    "colab": {
      "provenance": []
    },
    "kernelspec": {
      "name": "python3",
      "display_name": "Python 3"
    },
    "language_info": {
      "name": "python"
    }
  },
  "cells": [
    {
      "cell_type": "markdown",
      "source": [
        "**Đặng Thành Nhân - MSSV:522H0006 - Lab08**"
      ],
      "metadata": {
        "id": "A4Ou1F-kRxot"
      }
    },
    {
      "cell_type": "code",
      "source": [
        "#Example01\n",
        "import pandas as pd\n",
        "df = pd.DataFrame({'numbers' : [1, 2, 3], 'colors' : ['red', 'white', 'blue']})\n",
        "print(df)"
      ],
      "metadata": {
        "colab": {
          "base_uri": "https://localhost:8080/"
        },
        "id": "h5lZB2tqR5pe",
        "outputId": "75fa7ac1-12ae-4e83-df9d-21a2e4b5e81f"
      },
      "execution_count": null,
      "outputs": [
        {
          "output_type": "stream",
          "name": "stdout",
          "text": [
            "   number  color\n",
            "0       1    red\n",
            "1       2  white\n",
            "2       3   blue\n"
          ]
        }
      ]
    },
    {
      "cell_type": "code",
      "source": [
        "#Example02\n",
        "import pandas as pd\n",
        "df = pd.DataFrame({'numbers' : [1, 2, 3], 'colors' : ['red', 'white', 'blue']}, columns=['numbers', 'colors'])\n",
        "print(df)"
      ],
      "metadata": {
        "colab": {
          "base_uri": "https://localhost:8080/"
        },
        "id": "PvzU0Iw9W_Cp",
        "outputId": "0c714857-f234-4788-aab0-02f0349fa060"
      },
      "execution_count": null,
      "outputs": [
        {
          "output_type": "stream",
          "name": "stdout",
          "text": [
            "   numbers colors\n",
            "0        1    red\n",
            "1        2  white\n",
            "2        3   blue\n"
          ]
        }
      ]
    },
    {
      "cell_type": "code",
      "source": [
        "#Example03\n",
        "import numpy as np\n",
        "import pandas as pd\n",
        "df = pd.DataFrame(np.random.randn(5, 3), columns=['N1', 'N2', 'N3'])\n",
        "print(df)"
      ],
      "metadata": {
        "colab": {
          "base_uri": "https://localhost:8080/"
        },
        "id": "XTduHSy9YFyt",
        "outputId": "1d897b44-b425-4d41-98cd-5485132ecc88"
      },
      "execution_count": null,
      "outputs": [
        {
          "output_type": "stream",
          "name": "stdout",
          "text": [
            "         N1        N2        N3\n",
            "0 -0.693204 -0.480296  0.195961\n",
            "1  0.532668 -0.895289 -0.558928\n",
            "2 -0.446446  0.704996  0.318595\n",
            "3  0.008647  1.355765  0.967675\n",
            "4  1.880575 -0.580709  0.253655\n"
          ]
        }
      ]
    },
    {
      "cell_type": "code",
      "source": [
        "#Example04\n",
        "import pandas as pd\n",
        "df = pd.DataFrame({'N1' : [1, 2, 3, 4], 'N2' : [4, 3, 2, 1]})\n",
        "print(df)"
      ],
      "metadata": {
        "colab": {
          "base_uri": "https://localhost:8080/"
        },
        "id": "UC5VDDPLYfmk",
        "outputId": "2fa2db76-0b02-4776-eff0-3a52e4532c83"
      },
      "execution_count": null,
      "outputs": [
        {
          "output_type": "stream",
          "name": "stdout",
          "text": [
            "   N1  N2\n",
            "0   1   4\n",
            "1   2   3\n",
            "2   3   2\n",
            "3   4   1\n"
          ]
        }
      ]
    },
    {
      "cell_type": "code",
      "source": [
        "#Example05\n",
        "import pandas as pd\n",
        "L = [{'Name' : 'John', 'Last Name' : 'Smith'}, {'Name' : 'Mary', 'Last Name' : 'Wood'}]\n",
        "df = pd.DataFrame(L)\n",
        "print(df)"
      ],
      "metadata": {
        "colab": {
          "base_uri": "https://localhost:8080/"
        },
        "id": "knH0kdkmZEmK",
        "outputId": "092d81c1-a44d-41fd-938f-04ea8dad4fb3"
      },
      "execution_count": null,
      "outputs": [
        {
          "output_type": "stream",
          "name": "stdout",
          "text": [
            "   Name Last Name\n",
            "0  John     Smith\n",
            "1  Mary      Wood\n"
          ]
        }
      ]
    },
    {
      "cell_type": "code",
      "source": [
        "#Example06\n",
        "from google.colab import files\n",
        "uploaded = files.upload()\n",
        "\n",
        "data = np.loadtxt(\"sample.txt\", delimiter=',')\n",
        "print(data)"
      ],
      "metadata": {
        "colab": {
          "base_uri": "https://localhost:8080/",
          "height": 160
        },
        "id": "4CMnuXJaZt6A",
        "outputId": "46ff6e9f-154b-49fc-f45c-8656588ebde6"
      },
      "execution_count": null,
      "outputs": [
        {
          "output_type": "display_data",
          "data": {
            "text/plain": [
              "<IPython.core.display.HTML object>"
            ],
            "text/html": [
              "\n",
              "     <input type=\"file\" id=\"files-c47a49a6-d228-43ba-a322-9313457fdafe\" name=\"files[]\" multiple disabled\n",
              "        style=\"border:none\" />\n",
              "     <output id=\"result-c47a49a6-d228-43ba-a322-9313457fdafe\">\n",
              "      Upload widget is only available when the cell has been executed in the\n",
              "      current browser session. Please rerun this cell to enable.\n",
              "      </output>\n",
              "      <script>// Copyright 2017 Google LLC\n",
              "//\n",
              "// Licensed under the Apache License, Version 2.0 (the \"License\");\n",
              "// you may not use this file except in compliance with the License.\n",
              "// You may obtain a copy of the License at\n",
              "//\n",
              "//      http://www.apache.org/licenses/LICENSE-2.0\n",
              "//\n",
              "// Unless required by applicable law or agreed to in writing, software\n",
              "// distributed under the License is distributed on an \"AS IS\" BASIS,\n",
              "// WITHOUT WARRANTIES OR CONDITIONS OF ANY KIND, either express or implied.\n",
              "// See the License for the specific language governing permissions and\n",
              "// limitations under the License.\n",
              "\n",
              "/**\n",
              " * @fileoverview Helpers for google.colab Python module.\n",
              " */\n",
              "(function(scope) {\n",
              "function span(text, styleAttributes = {}) {\n",
              "  const element = document.createElement('span');\n",
              "  element.textContent = text;\n",
              "  for (const key of Object.keys(styleAttributes)) {\n",
              "    element.style[key] = styleAttributes[key];\n",
              "  }\n",
              "  return element;\n",
              "}\n",
              "\n",
              "// Max number of bytes which will be uploaded at a time.\n",
              "const MAX_PAYLOAD_SIZE = 100 * 1024;\n",
              "\n",
              "function _uploadFiles(inputId, outputId) {\n",
              "  const steps = uploadFilesStep(inputId, outputId);\n",
              "  const outputElement = document.getElementById(outputId);\n",
              "  // Cache steps on the outputElement to make it available for the next call\n",
              "  // to uploadFilesContinue from Python.\n",
              "  outputElement.steps = steps;\n",
              "\n",
              "  return _uploadFilesContinue(outputId);\n",
              "}\n",
              "\n",
              "// This is roughly an async generator (not supported in the browser yet),\n",
              "// where there are multiple asynchronous steps and the Python side is going\n",
              "// to poll for completion of each step.\n",
              "// This uses a Promise to block the python side on completion of each step,\n",
              "// then passes the result of the previous step as the input to the next step.\n",
              "function _uploadFilesContinue(outputId) {\n",
              "  const outputElement = document.getElementById(outputId);\n",
              "  const steps = outputElement.steps;\n",
              "\n",
              "  const next = steps.next(outputElement.lastPromiseValue);\n",
              "  return Promise.resolve(next.value.promise).then((value) => {\n",
              "    // Cache the last promise value to make it available to the next\n",
              "    // step of the generator.\n",
              "    outputElement.lastPromiseValue = value;\n",
              "    return next.value.response;\n",
              "  });\n",
              "}\n",
              "\n",
              "/**\n",
              " * Generator function which is called between each async step of the upload\n",
              " * process.\n",
              " * @param {string} inputId Element ID of the input file picker element.\n",
              " * @param {string} outputId Element ID of the output display.\n",
              " * @return {!Iterable<!Object>} Iterable of next steps.\n",
              " */\n",
              "function* uploadFilesStep(inputId, outputId) {\n",
              "  const inputElement = document.getElementById(inputId);\n",
              "  inputElement.disabled = false;\n",
              "\n",
              "  const outputElement = document.getElementById(outputId);\n",
              "  outputElement.innerHTML = '';\n",
              "\n",
              "  const pickedPromise = new Promise((resolve) => {\n",
              "    inputElement.addEventListener('change', (e) => {\n",
              "      resolve(e.target.files);\n",
              "    });\n",
              "  });\n",
              "\n",
              "  const cancel = document.createElement('button');\n",
              "  inputElement.parentElement.appendChild(cancel);\n",
              "  cancel.textContent = 'Cancel upload';\n",
              "  const cancelPromise = new Promise((resolve) => {\n",
              "    cancel.onclick = () => {\n",
              "      resolve(null);\n",
              "    };\n",
              "  });\n",
              "\n",
              "  // Wait for the user to pick the files.\n",
              "  const files = yield {\n",
              "    promise: Promise.race([pickedPromise, cancelPromise]),\n",
              "    response: {\n",
              "      action: 'starting',\n",
              "    }\n",
              "  };\n",
              "\n",
              "  cancel.remove();\n",
              "\n",
              "  // Disable the input element since further picks are not allowed.\n",
              "  inputElement.disabled = true;\n",
              "\n",
              "  if (!files) {\n",
              "    return {\n",
              "      response: {\n",
              "        action: 'complete',\n",
              "      }\n",
              "    };\n",
              "  }\n",
              "\n",
              "  for (const file of files) {\n",
              "    const li = document.createElement('li');\n",
              "    li.append(span(file.name, {fontWeight: 'bold'}));\n",
              "    li.append(span(\n",
              "        `(${file.type || 'n/a'}) - ${file.size} bytes, ` +\n",
              "        `last modified: ${\n",
              "            file.lastModifiedDate ? file.lastModifiedDate.toLocaleDateString() :\n",
              "                                    'n/a'} - `));\n",
              "    const percent = span('0% done');\n",
              "    li.appendChild(percent);\n",
              "\n",
              "    outputElement.appendChild(li);\n",
              "\n",
              "    const fileDataPromise = new Promise((resolve) => {\n",
              "      const reader = new FileReader();\n",
              "      reader.onload = (e) => {\n",
              "        resolve(e.target.result);\n",
              "      };\n",
              "      reader.readAsArrayBuffer(file);\n",
              "    });\n",
              "    // Wait for the data to be ready.\n",
              "    let fileData = yield {\n",
              "      promise: fileDataPromise,\n",
              "      response: {\n",
              "        action: 'continue',\n",
              "      }\n",
              "    };\n",
              "\n",
              "    // Use a chunked sending to avoid message size limits. See b/62115660.\n",
              "    let position = 0;\n",
              "    do {\n",
              "      const length = Math.min(fileData.byteLength - position, MAX_PAYLOAD_SIZE);\n",
              "      const chunk = new Uint8Array(fileData, position, length);\n",
              "      position += length;\n",
              "\n",
              "      const base64 = btoa(String.fromCharCode.apply(null, chunk));\n",
              "      yield {\n",
              "        response: {\n",
              "          action: 'append',\n",
              "          file: file.name,\n",
              "          data: base64,\n",
              "        },\n",
              "      };\n",
              "\n",
              "      let percentDone = fileData.byteLength === 0 ?\n",
              "          100 :\n",
              "          Math.round((position / fileData.byteLength) * 100);\n",
              "      percent.textContent = `${percentDone}% done`;\n",
              "\n",
              "    } while (position < fileData.byteLength);\n",
              "  }\n",
              "\n",
              "  // All done.\n",
              "  yield {\n",
              "    response: {\n",
              "      action: 'complete',\n",
              "    }\n",
              "  };\n",
              "}\n",
              "\n",
              "scope.google = scope.google || {};\n",
              "scope.google.colab = scope.google.colab || {};\n",
              "scope.google.colab._files = {\n",
              "  _uploadFiles,\n",
              "  _uploadFilesContinue,\n",
              "};\n",
              "})(self);\n",
              "</script> "
            ]
          },
          "metadata": {}
        },
        {
          "output_type": "stream",
          "name": "stdout",
          "text": [
            "Saving sample.txt to sample (1).txt\n",
            "[[1.  2.1 0.1]\n",
            " [2.  4.5 9. ]\n",
            " [3.  5.5 2.1]\n",
            " [4.  2.3 3.3]\n",
            " [5.  7.7 8.8]]\n"
          ]
        }
      ]
    },
    {
      "cell_type": "code",
      "source": [
        "#Example07\n",
        "import pandas as pd\n",
        "\n",
        "data = pd.read_csv(\"sample.txt\", delimiter=',')\n",
        "print(data)"
      ],
      "metadata": {
        "colab": {
          "base_uri": "https://localhost:8080/"
        },
        "id": "dXRGdC2HbvMS",
        "outputId": "95e3f0b5-f6cd-4bc7-d2cb-ff2aaf3c4f42"
      },
      "execution_count": null,
      "outputs": [
        {
          "output_type": "stream",
          "name": "stdout",
          "text": [
            "   1   2.1   0.1\n",
            "0  2   4.5   9.0\n",
            "1  3   5.5   2.1\n",
            "2  4   2.3   3.3\n",
            "3  5   7.7   8.8\n"
          ]
        }
      ]
    },
    {
      "cell_type": "code",
      "source": [
        "#Example08\n",
        "import pandas as pd\n",
        "\n",
        "data = pd.read_csv(\"sample1.txt\", delimiter=',')\n",
        "print(data)\n",
        "print(\"Print column Score\")\n",
        "print(data.Score)"
      ],
      "metadata": {
        "colab": {
          "base_uri": "https://localhost:8080/"
        },
        "id": "uK5XVk8zcRRR",
        "outputId": "65bf0f9e-8337-4876-9996-67ca1c948577"
      },
      "execution_count": null,
      "outputs": [
        {
          "output_type": "stream",
          "name": "stdout",
          "text": [
            "   ID  Weight  Score\n",
            "0   1     2.1    0.1\n",
            "1   2     4.5    9.0\n",
            "2   3     5.5    2.1\n",
            "3   4     2.3    3.3\n",
            "4   5     7.7    8.8\n",
            "Print column Score\n",
            "0    0.1\n",
            "1    9.0\n",
            "2    2.1\n",
            "3    3.3\n",
            "4    8.8\n",
            "Name: Score, dtype: float64\n"
          ]
        }
      ]
    },
    {
      "cell_type": "code",
      "source": [
        "#Example09\n",
        "import numpy as np\n",
        "import pandas as pd\n",
        "df = pd.DataFrame(np.random.randn(10, 3), columns=['N1', 'N2', 'N3'])\n",
        "print(df)\n",
        "df.head(5)\n",
        "df.tail(5)\n",
        "print(df['N2'])\n",
        "\n",
        "print(df[['N1','N2']])\n",
        "print(df[1:-2])\n"
      ],
      "metadata": {
        "colab": {
          "base_uri": "https://localhost:8080/"
        },
        "id": "s7hdQ42Ue0OZ",
        "outputId": "0c48c1ee-50f7-490b-8dd3-179e74bbcf89"
      },
      "execution_count": null,
      "outputs": [
        {
          "output_type": "stream",
          "name": "stdout",
          "text": [
            "         N1        N2        N3\n",
            "0  1.336182 -0.758282  1.470743\n",
            "1 -1.738231  1.031590 -0.835607\n",
            "2  0.209300  0.177432 -0.914084\n",
            "3 -0.540917  0.630027 -0.102256\n",
            "4  1.177570  1.329648  1.366194\n",
            "5 -1.748684 -0.666301 -0.020673\n",
            "6  1.442009 -0.952156  2.131227\n",
            "7  0.077260  0.825080  0.566750\n",
            "8  0.638049 -0.897787  0.347410\n",
            "9 -0.949669  0.705147  0.993956\n",
            "0   -0.758282\n",
            "1    1.031590\n",
            "2    0.177432\n",
            "3    0.630027\n",
            "4    1.329648\n",
            "5   -0.666301\n",
            "6   -0.952156\n",
            "7    0.825080\n",
            "8   -0.897787\n",
            "9    0.705147\n",
            "Name: N2, dtype: float64\n",
            "         N1        N2\n",
            "0  1.336182 -0.758282\n",
            "1 -1.738231  1.031590\n",
            "2  0.209300  0.177432\n",
            "3 -0.540917  0.630027\n",
            "4  1.177570  1.329648\n",
            "5 -1.748684 -0.666301\n",
            "6  1.442009 -0.952156\n",
            "7  0.077260  0.825080\n",
            "8  0.638049 -0.897787\n",
            "9 -0.949669  0.705147\n",
            "         N1        N2        N3\n",
            "1 -1.738231  1.031590 -0.835607\n",
            "2  0.209300  0.177432 -0.914084\n",
            "3 -0.540917  0.630027 -0.102256\n",
            "4  1.177570  1.329648  1.366194\n",
            "5 -1.748684 -0.666301 -0.020673\n",
            "6  1.442009 -0.952156  2.131227\n",
            "7  0.077260  0.825080  0.566750\n"
          ]
        }
      ]
    },
    {
      "cell_type": "code",
      "source": [
        "#Exercise01\n",
        "import pandas as pd\n",
        "\n",
        "# Define functions to calculate mean and std\n",
        "def mean(data):\n",
        "    return sum(data) / len(data)\n",
        "\n",
        "def std(data):\n",
        "    mu = mean(data)\n",
        "    variances = [(x - mu)**2 for x in data]\n",
        "    return (sum(variances) / len(variances))**0.5\n",
        "\n",
        "iris_data = pd.read_csv('iris.csv')\n",
        "# first 5 data points\n",
        "first_5_data = iris_data.head()\n",
        "print(first_5_data)\n",
        "# (count)\n",
        "count = len(iris_data)\n",
        "\n",
        "# Calculate mean for each column\n",
        "mean_sepal_length = mean(iris_data['sepal_length'])\n",
        "mean_sepal_width = mean(iris_data['sepal_width'])\n",
        "mean_petal_length = mean(iris_data['petal_length'])\n",
        "mean_petal_width = mean(iris_data['petal_width'])\n",
        "\n",
        "#standard deviation\n",
        "std_sepal_length = std(iris_data['sepal_length'])\n",
        "std_sepal_width = std(iris_data['sepal_width'])\n",
        "std_petal_length = std(iris_data['petal_length'])\n",
        "std_petal_width = std(iris_data['petal_width'])\n",
        "\n",
        "# minimu\n",
        "min_sepal_length = iris_data['sepal_length'].min()\n",
        "min_sepal_width = iris_data['sepal_width'].min()\n",
        "min_petal_length = iris_data['petal_length'].min()\n",
        "min_petal_width = iris_data['petal_width'].min()\n",
        "\n",
        "#maximum\n",
        "max_sepal_length = iris_data['sepal_length'].max()\n",
        "max_sepal_width = iris_data['sepal_width'].max()\n",
        "max_petal_length = iris_data['petal_length'].max()\n",
        "max_petal_width = iris_data['petal_width'].max()\n",
        "\n",
        "result_df = pd.DataFrame({\n",
        "    'sepal_length': [count,mean_sepal_length,\n",
        "                    std_sepal_length, min_sepal_length, max_sepal_length],\n",
        "    'sepal_width': [count, mean_sepal_width,\n",
        "                    std_sepal_width, min_sepal_width, max_sepal_width],\n",
        "    'petal_length': [count, mean_petal_length,\n",
        "                    std_petal_length, min_petal_length, max_petal_length],\n",
        "    'petal_width': [count, mean_petal_width,\n",
        "                   std_petal_width, min_petal_width, max_petal_width]\n",
        "}, index=['count', 'mean', 'std', 'min', 'max'])\n",
        "print(result_df)"
      ],
      "metadata": {
        "colab": {
          "base_uri": "https://localhost:8080/"
        },
        "id": "tLG288TThLf8",
        "outputId": "4d11a107-b135-4195-9ec3-fa5a1a14c54b"
      },
      "execution_count": null,
      "outputs": [
        {
          "output_type": "stream",
          "name": "stdout",
          "text": [
            "   sepal_length  sepal_width  petal_length  petal_width species\n",
            "0           5.1          3.5           1.4          0.2  setosa\n",
            "1           4.9          3.0           1.4          0.2  setosa\n",
            "2           4.7          3.2           1.3          0.2  setosa\n",
            "3           4.6          3.1           1.5          0.2  setosa\n",
            "4           5.0          3.6           1.4          0.2  setosa\n",
            "       sepal_length  sepal_width  petal_length  petal_width\n",
            "count    150.000000   150.000000    150.000000   150.000000\n",
            "mean       5.843333     3.054000      3.758667     1.198667\n",
            "std        0.825301     0.432147      1.758529     0.760613\n",
            "min        4.300000     2.000000      1.000000     0.100000\n",
            "max        7.900000     4.400000      6.900000     2.500000\n"
          ]
        }
      ]
    },
    {
      "cell_type": "code",
      "source": [
        "#Exercise02\n",
        "import pandas as pd\n",
        "import numpy as np\n",
        "\n",
        "# read data from population.csv file\n",
        "data = pd.read_csv(\"population.csv\", delimiter=\",\")\n",
        "df = pd.DataFrame(data)\n",
        "\n",
        "# get the first 5 data points\n",
        "first_5_data_points = df.head(5)\n",
        "\n",
        "print(first_5_data_points, \"\\n\\n\")\n",
        "\n",
        "# group the data by year then compute the requirements\n",
        "dt = df.groupby([\"Country Name\", \"Country Code\"]).agg(\n",
        "    {\"Year\": [\"count\", \"mean\", \"std\", \"min\", \"max\"]}\n",
        ")\n",
        "\n",
        "# print the result to the screen\n",
        "print(dt)"
      ],
      "metadata": {
        "id": "Qnxce0q_rTVO",
        "colab": {
          "base_uri": "https://localhost:8080/"
        },
        "outputId": "e7b67933-a5ad-4638-c160-52bcc7fd2506"
      },
      "execution_count": 89,
      "outputs": [
        {
          "output_type": "stream",
          "name": "stdout",
          "text": [
            "  Country Name Country Code  Year      Value\n",
            "0   Arab World          ARB  1960   92197753\n",
            "1   Arab World          ARB  1961   94724510\n",
            "2   Arab World          ARB  1962   97334442\n",
            "3   Arab World          ARB  1963  100034179\n",
            "4   Arab World          ARB  1964  102832760 \n",
            "\n",
            "\n",
            "                                 Year                               \n",
            "                                count    mean        std   min   max\n",
            "Country Name       Country Code                                     \n",
            "Afghanistan        AFG             59  1989.0  17.175564  1960  2018\n",
            "Albania            ALB             59  1989.0  17.175564  1960  2018\n",
            "Algeria            DZA             59  1989.0  17.175564  1960  2018\n",
            "American Samoa     ASM             59  1989.0  17.175564  1960  2018\n",
            "Andorra            AND             59  1989.0  17.175564  1960  2018\n",
            "...                               ...     ...        ...   ...   ...\n",
            "West Bank and Gaza PSE             29  2004.0   8.514693  1990  2018\n",
            "World              WLD             59  1989.0  17.175564  1960  2018\n",
            "Yemen, Rep.        YEM             59  1989.0  17.175564  1960  2018\n",
            "Zambia             ZMB             59  1989.0  17.175564  1960  2018\n",
            "Zimbabwe           ZWE             59  1989.0  17.175564  1960  2018\n",
            "\n",
            "[263 rows x 5 columns]\n"
          ]
        }
      ]
    }
  ]
}