{
  "nbformat": 4,
  "nbformat_minor": 0,
  "metadata": {
    "colab": {
      "provenance": []
    },
    "kernelspec": {
      "name": "python3",
      "display_name": "Python 3"
    },
    "language_info": {
      "name": "python"
    }
  },
  "cells": [
    {
      "cell_type": "markdown",
      "source": [
        "**Đặng Thành Nhân-MSSV:522H0006 - Lab02**"
      ],
      "metadata": {
        "id": "BHLWV9rF4cHl"
      }
    },
    {
      "cell_type": "code",
      "source": [
        "#Example01\n",
        "from fractions import Fraction\n",
        "def P(event , space):\n",
        "  return Fraction(len(event & space), len(space))\n",
        "D = {1, 2, 3, 4, 5, 6}\n",
        "even = {2, 4, 6}\n",
        "\n",
        "print(P(even, D))"
      ],
      "metadata": {
        "id": "7H4E8pDP4ezJ"
      },
      "execution_count": null,
      "outputs": []
    },
    {
      "cell_type": "code",
      "source": [
        "#Example02\n",
        "from fractions import Fraction\n",
        "def P(event , space):\n",
        "  return Fraction(len(event & space), len(space))\n",
        "\n",
        "def cross(A, B):\n",
        "    return {a + b for a in A for b in B}\n",
        "urn = cross('W', '12345678') | cross('B', '123456') | cross ('R', '123456789')\n",
        "\n",
        "import itertools\n",
        "\n",
        "def combos(items , n):\n",
        "  '''All combinations of n items; each combo as a\n",
        "  concatenated str.'''\n",
        "  return {' '.join(combo) for combo in itertools.\n",
        "  combinations(items , n)}\n",
        "\n",
        "U6 = combos(urn, 6)\n",
        "print(len(U6))\n",
        "\n",
        "import random\n",
        "\n",
        "print(random.sample(U6, 10))\n",
        "\n",
        "#Prob1\n",
        "red6 = {s for s in U6 if s.count('R') == 6}\n",
        "print(P(red6, U6))\n",
        "\n",
        "#Prob2\n",
        "b3w2r1 = {s for s in U6 if s.count('B') == 3 and s.count('W'\n",
        ") == 2 and s.count('R') == 1}\n",
        "print(P(b3w2r1 , U6))\n",
        "\n",
        "#Prob3\n",
        "w4 = {s for s in U6 if s.count('W') == 4}\n",
        "print(P(w4, U6))"
      ],
      "metadata": {
        "id": "2d7QlksS5enp"
      },
      "execution_count": null,
      "outputs": []
    },
    {
      "cell_type": "code",
      "source": [
        "#Example03\n",
        "import random\n",
        "n = 10\n",
        "count = 0;\n",
        "for simulations in range(n):\n",
        "  tosses = random.randint(0, 1)\n",
        "  if tosses == 1:\n",
        "    count += 1\n",
        "print(count/n)"
      ],
      "metadata": {
        "id": "6zXYjoYi9WHK"
      },
      "execution_count": null,
      "outputs": []
    },
    {
      "cell_type": "code",
      "source": [
        "#Example04\n",
        "import random\n",
        "count = 0;\n",
        "n = 1000000;\n",
        "for i in range(n):\n",
        "  die1 = random.randint(1, 6)\n",
        "  die2 = random.randint(1, 6)\n",
        "  if die1==1 and die2==6:\n",
        "    count += 1\n",
        "print(count/n)"
      ],
      "metadata": {
        "id": "LbmF-vjH9_yZ"
      },
      "execution_count": null,
      "outputs": []
    },
    {
      "cell_type": "code",
      "source": [
        "#Example05\n",
        " # Import the required function libraries\n",
        "from itertools import product\n",
        "\n",
        "# Define ranks , suits and cards\n",
        "Ranks = {1, 2, 3, 4, 5, 6, 7, 8, 9, 10, 'J', 'Q', 'K'}\n",
        "Suits = {'♡', '♢', '♣', '♠'}\n",
        "Cards = list(product(Ranks , Suits))\n",
        "print(len(Cards))\n",
        "print(Cards[:10])\n",
        "#   Write a function to calculate the experimental probability of drawing the red\n",
        "# card with the number of tests n as the parameter:\n",
        "\n",
        "def simulator_poker(n):\n",
        "  count = 0;\n",
        "  for i in range(n):\n",
        "    index = random.randint(0, 51)\n",
        "    if Cards[index][1] == '♡' or Cards[index][1] == '♢':\n",
        "      count += 1\n",
        "  return count/n\n",
        "\n",
        "# Call above function with n = 10, 100, 1000, 10000, ...\n",
        "print(simulator_poker(10))\n",
        "print(simulator_poker(100))\n",
        "print(simulator_poker(1000))\n",
        "print(simulator_poker(10000))"
      ],
      "metadata": {
        "id": "UAtDYoJE-vlp"
      },
      "execution_count": null,
      "outputs": []
    },
    {
      "cell_type": "code",
      "source": [
        "#Exercise01\n",
        "import random\n",
        "def simualtor_dice1(n):\n",
        "  count = 0;\n",
        "  for i in range(n):\n",
        "    die1 = random.randint(1, 6)\n",
        "    die2 = random.randint(1, 6)\n",
        "    if (die1 % 2 == 0)and (die2 % 2 == 0):\n",
        "      count += 1\n",
        "  return (count/n)\n",
        "print(simualtor_dice1(10000))"
      ],
      "metadata": {
        "id": "y3hdmPOzCzGC"
      },
      "execution_count": null,
      "outputs": []
    },
    {
      "cell_type": "code",
      "source": [
        "#Exercise02\n",
        "import random\n",
        "def simualtor_dice2(n):\n",
        "  count = 0;\n",
        "  for i in range(n):\n",
        "    die1 = random.randint(1, 6)\n",
        "    die2 = random.randint(1, 6)\n",
        "    if (die1 % 2 != 0)and (die2 % 2 != 0):\n",
        "      count += 1\n",
        "  return (count/n)\n",
        "print(simualtor_dice2(10000))"
      ],
      "metadata": {
        "id": "1G_eEBAKC_7F"
      },
      "execution_count": null,
      "outputs": []
    },
    {
      "cell_type": "code",
      "source": [
        "#Exercise03\n",
        "import random\n",
        "def simualtor_dice3(n):\n",
        "  count = 0;\n",
        "  for i in range(n):\n",
        "    die1 = random.randint(1, 6)\n",
        "    die2 = random.randint(1, 6)\n",
        "    if (die1 == die2):\n",
        "      count += 1\n",
        "  return (count/n)\n",
        "print(simualtor_dice3(10000))"
      ],
      "metadata": {
        "id": "ojcV6JqHD1Le"
      },
      "execution_count": null,
      "outputs": []
    },
    {
      "cell_type": "code",
      "source": [
        "#Exercise04\n",
        "import random\n",
        "def simualtor_dice4(n):\n",
        "  count = 0;\n",
        "  for i in range(n):\n",
        "    die1 = random.randint(1, 6)\n",
        "    die2 = random.randint(1, 6)\n",
        "    if (die1 == 1)and (die2 == 6):\n",
        "      count += 1\n",
        "  return (count/n)\n",
        "print(simualtor_dice4(10000))"
      ],
      "metadata": {
        "id": "NbV1sLLgEF2n"
      },
      "execution_count": null,
      "outputs": []
    },
    {
      "cell_type": "code",
      "source": [
        "#Exercise05\n",
        "import random\n",
        "def simualtor_dice5(n):\n",
        "  count = 0;\n",
        "  for i in range(n):\n",
        "    die1 = random.randint(1, 6)\n",
        "    die2 = random.randint(1, 6)\n",
        "    if (die1 + die2) > 6:\n",
        "      count += 1\n",
        "  return (count/n)\n",
        "print(simualtor_dice5(10000))"
      ],
      "metadata": {
        "id": "bWaBFmUsEd7z"
      },
      "execution_count": null,
      "outputs": []
    },
    {
      "cell_type": "code",
      "source": [
        "#Exercise06\n",
        "from itertools import product\n",
        "\n",
        "Ranks = {1, 2, 3, 4, 5, 6, 7, 8, 9, 10, 'J', 'Q', 'K'}\n",
        "Suits = {'♡', '♢', '♣', '♠'}\n",
        "Cards = list(product(Ranks , Suits))\n",
        "\n",
        "def simulator_poker1(n):\n",
        "  count = 0;\n",
        "  for i in range(n):\n",
        "    count1 = 0;\n",
        "    pick = random.sample(Cards, 5)\n",
        "    for j in pick:\n",
        "      if j[1] == '♡':\n",
        "        count1 += 1;\n",
        "    if (count1 == 5):\n",
        "      count += 1;\n",
        "  return count/n\n",
        "print(simulator_poker1(1000))"
      ],
      "metadata": {
        "colab": {
          "base_uri": "https://localhost:8080/"
        },
        "id": "vnMm0_XkEvaD",
        "outputId": "9f075ce6-f923-446a-a84b-ec4bd09dac6c"
      },
      "execution_count": null,
      "outputs": [
        {
          "output_type": "stream",
          "name": "stdout",
          "text": [
            "0.001\n"
          ]
        }
      ]
    },
    {
      "cell_type": "code",
      "source": [
        "#Exercise07\n",
        "import random\n",
        "from itertools import product\n",
        "Ranks = {1, 2, 3, 4, 5, 6, 7, 8, 9, 10, 'J', 'Q', 'K'}\n",
        "Suits = {'♡', '♢', '♣', '♠'}\n",
        "Cards = list(product(Ranks , Suits))\n",
        "def simulator_poker2(n):\n",
        "  count = 0\n",
        "  for i in range(n):\n",
        "    typelist = []\n",
        "    pick = random.sample(Cards,4)\n",
        "    for j in pick:\n",
        "      typelist.append(j[1])\n",
        "    if (len(set(typelist)) == 4):\n",
        "      count += 1\n",
        "  return count/n\n",
        "\n",
        "print(simulator_poker2(100000))"
      ],
      "metadata": {
        "id": "yQjX6C6VIzw8",
        "colab": {
          "base_uri": "https://localhost:8080/"
        },
        "outputId": "7761e75b-4ebd-4794-f821-dbb20d2c464b"
      },
      "execution_count": null,
      "outputs": [
        {
          "output_type": "stream",
          "name": "stdout",
          "text": [
            "0.10651\n"
          ]
        }
      ]
    },
    {
      "cell_type": "code",
      "source": [
        "#Exercise08\n",
        "from fractions import Fraction\n",
        "def P(event , space):\n",
        "  return Fraction(len(event & space), len(space))\n",
        "\n",
        "def cross(A, B):\n",
        "    return {a + b for a in A for b in B}\n",
        "urn = cross('W', '12345678') | cross('B', '123456') | cross ('R', '123456789')\n",
        "\n",
        "import itertools\n",
        "\n",
        "def combos(items , n):\n",
        "  '''All combinations of n items; each combo as a\n",
        "  concatenated str.'''\n",
        "  return {' '.join(combo) for combo in itertools.\n",
        "  combinations(items , n)}\n",
        "\n",
        "U6 = combos(urn, 6)\n",
        "\n",
        "W2B2R2 = {s for s in U6 if s.count('W') == 2 and s.count('B') == 2 and s.count('R') == 2}\n",
        "print(P(W2B2R2, U6))"
      ],
      "metadata": {
        "id": "TdN1TnufRtBr"
      },
      "execution_count": null,
      "outputs": []
    }
  ]
}