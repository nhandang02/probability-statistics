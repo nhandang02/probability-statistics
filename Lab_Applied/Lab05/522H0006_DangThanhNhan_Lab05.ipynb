{
  "cells": [
    {
      "cell_type": "markdown",
      "metadata": {
        "id": "Kr31kOoXI7wr"
      },
      "source": [
        "**Đặng Thành Nhân-MSSV:522H0006 - Lab05**"
      ]
    },
    {
      "cell_type": "code",
      "execution_count": 12,
      "metadata": {
        "colab": {
          "base_uri": "https://localhost:8080/"
        },
        "id": "V8520hbrJEca",
        "outputId": "d6133391-2910-4df8-9422-3e356731baba"
      },
      "outputs": [
        {
          "name": "stdout",
          "output_type": "stream",
          "text": [
            "a) Probability of Both dice are the same is: 0.166981\n",
            "b) Probability of Both dice are different is: 0.83312\n",
            "f) Probability of Both dice are different is: 0.027773\n"
          ]
        }
      ],
      "source": [
        "#Exercise01\n",
        "import random\n",
        "n = 1000000\n",
        "#a Both dice are the same\n",
        "count1 = 0\n",
        "for i in range(n):\n",
        "  die1 = random.randint(1, 6)\n",
        "  die2 = random.randint(1, 6)\n",
        "  if die1 == die2:\n",
        "    count1 += 1\n",
        "print(\"a) Probability of Both dice are the same is:\", end = \" \")\n",
        "print(count1/n)\n",
        "\n",
        "#b Both dice are different\n",
        "count2 = 0\n",
        "for i in range(n):\n",
        "  die1 = random.randint(1, 6)\n",
        "  die2 = random.randint(1, 6)\n",
        "  if die1 != die2:\n",
        "    count2 += 1\n",
        "print(\"b) Probability of Both dice are different is:\", end = \" \")\n",
        "print(count2/n)\n",
        "\n",
        "#f Both dice are 6\n",
        "count3 = 0\n",
        "for i in range(n):\n",
        "  die1 = random.randint(1, 6)\n",
        "  die2 = random.randint(1, 6)\n",
        "  if die1 == 6 and die2 == 6:\n",
        "    count3 += 1\n",
        "print(\"f) Probability of Both dice are different is:\", end = \" \")\n",
        "print(count3/n)"
      ]
    },
    {
      "cell_type": "code",
      "execution_count": 11,
      "metadata": {
        "colab": {
          "base_uri": "https://localhost:8080/"
        },
        "id": "syk30cT1L0OU",
        "outputId": "6e970eb5-6819-4800-ba27-e163380b1a36"
      },
      "outputs": [
        {
          "name": "stdout",
          "output_type": "stream",
          "text": [
            "a) Probability of All 3 balls are same color is: 11/120\n",
            "d) Probability of There are 2 red balls and 1 white ball is: 1/8\n",
            "e) List all the cases that all 3 balls are white:\n",
            "{'W1 W4 W2', 'W3 W5 W2', 'W1 W4 W5', 'W4 W3 W2', 'W1 W4 W3', 'W1 W5 W2', 'W1 W3 W2', 'W1 W3 W5', 'W4 W3 W5', 'W4 W5 W2'}\n"
          ]
        }
      ],
      "source": [
        "#Exercise02\n",
        "import random\n",
        "from fractions import Fraction\n",
        "def P(event , space):\n",
        "  return Fraction(len(event & space), len(space))\n",
        "\n",
        "def cross(A, B):\n",
        "    return {a + b for a in A for b in B}\n",
        "urn = cross('B', '12') | cross('R', '123') | cross ('W', '12345')\n",
        "\n",
        "import itertools\n",
        "\n",
        "def combos(items , n):\n",
        "  '''All combinations of n items; each combo as a\n",
        "  concatenated str.'''\n",
        "  return {' '.join(combo) for combo in itertools.\n",
        "  combinations(items , n)}\n",
        "\n",
        "U3 = combos(urn, 3)\n",
        "\n",
        "#a All 3 balls are same color\n",
        "red3 = {s for s in U3 if s.count('R') == 3}\n",
        "white3 = {s for s in U3 if s.count('W') == 3}\n",
        "print(\"a) Probability of All 3 balls are same color is:\", end = \" \")\n",
        "print(P(red3, U3) + P(white3, U3))\n",
        "\n",
        "#d There are 2 red balls and 1 white ball\n",
        "r3w1 = {s for s in U3 if s.count('R') == 2 and s.count('W'\n",
        ") == 1}\n",
        "print(\"d) Probability of There are 2 red balls and 1 white ball is:\", end = \" \")\n",
        "print(P(r3w1 , U3))\n",
        "\n",
        "#e  List all the cases that all 3 balls are white.\n",
        "print(\"e) List all the cases that all 3 balls are white:\")\n",
        "print(white3)"
      ]
    },
    {
      "cell_type": "code",
      "execution_count": 3,
      "metadata": {
        "colab": {
          "base_uri": "https://localhost:8080/"
        },
        "id": "Qw6IDm1nQG0d",
        "outputId": "98db6d4c-3fba-4a73-bcad-bc13870cafbf"
      },
      "outputs": [
        {
          "name": "stdout",
          "output_type": "stream",
          "text": [
            "a) Probability of All 4 cards are from the same suit is: 0.0112\n",
            "c) Probability of All 4 cards are same color is: 0.1137\n",
            "f) Probability of All 4 cards are faces. is: 0.0016\n"
          ]
        }
      ],
      "source": [
        "#Exercise03\n",
        "from itertools import product\n",
        "\n",
        "# Define ranks , suits and cards\n",
        "Ranks = {1, 2, 3, 4, 5, 6, 7, 8, 9, 10, 'J', 'Q', 'K'}\n",
        "Suits = {'♡', '♢', '♣', '♠'}\n",
        "Cards = list(product(Ranks , Suits))\n",
        "\n",
        "#a All 4 cards are from the same suit\n",
        "def simulator_poker1(n):\n",
        "  count = 0;\n",
        "  for i in range(n):\n",
        "    count1 = 0;\n",
        "    count2 = 0;\n",
        "    count3 = 0;\n",
        "    count4 = 0;\n",
        "    pick = random.sample(Cards, 4)\n",
        "    for j in pick:\n",
        "      if j[1] == '♡':\n",
        "        count1 += 1;\n",
        "    for j in pick:\n",
        "      if j[1] == '♢':\n",
        "        count2 += 1;\n",
        "    for j in pick:\n",
        "      if j[1] == '♣':\n",
        "        count3 += 1;\n",
        "    for j in pick:\n",
        "      if j[1] == '♠':\n",
        "        count4 += 1;\n",
        "    if (count1 == 4 or count2 == 4 or count3 == 4 or count4 == 4):\n",
        "      count += 1;\n",
        "  return count/n\n",
        "print(\"a) Probability of All 4 cards are from the same suit is:\", end = \" \")\n",
        "print(simulator_poker1(10000))\n",
        "\n",
        "#c All 4 cards are same color\n",
        "def simulator_poker2(n):\n",
        "  count = 0\n",
        "  for i in range(n):\n",
        "    pick = random.sample(Cards, 4)\n",
        "    red = 0\n",
        "    black = 0\n",
        "    for card in pick:\n",
        "      if card[1] in ('♢', '♡'):\n",
        "        red += 1\n",
        "      else:\n",
        "        black += 1\n",
        "\n",
        "    if red == 4 or black == 4:\n",
        "      count += 1\n",
        "\n",
        "  return count/n\n",
        "print(\"c) Probability of All 4 cards are same color is:\", end = \" \")\n",
        "print(simulator_poker2(10000))\n",
        "\n",
        "#f All 4 cards are faces\n",
        "def simulator_poker3(n):\n",
        "  count = 0\n",
        "  for i in range(n):\n",
        "    pick = random.sample(Cards, 4)\n",
        "\n",
        "    faces = 0\n",
        "    for card in pick:\n",
        "      if card[0] in ['J', 'Q', 'K']:\n",
        "        faces += 1\n",
        "\n",
        "    if faces == 4:\n",
        "      count += 1\n",
        "\n",
        "  return count/n\n",
        "print(\"f) Probability of All 4 cards are faces. is:\", end = \" \")\n",
        "print(simulator_poker3(10000))"
      ]
    },
    {
      "cell_type": "code",
      "execution_count": 4,
      "metadata": {
        "colab": {
          "base_uri": "https://localhost:8080/"
        },
        "id": "XXsRZ-NyXQtq",
        "outputId": "1fc3fd4c-dc9e-4ee7-fb81-be497b27d3bc"
      },
      "outputs": [
        {
          "name": "stdout",
          "output_type": "stream",
          "text": [
            "a) URN: \n",
            "{'R2', 'R4', 'R3', 'W1', 'B3', 'B2', 'B1', 'R1', 'W2'}\n",
            "b) Subset of 3 balls: \n",
            "{'B3 B2 B1', 'B3 B1 W2', 'B1 R1 W2', 'B2 B1 R1', 'R4 B3 W2', 'R4 B1 R1', 'R2 R4 R3', 'B3 R1 W2', 'R2 W1 R1', 'R2 W1 W2', 'R2 W1 B1', 'R2 B1 W2', 'R2 R3 B2', 'B3 B2 W2', 'R3 W1 B2', 'R4 R3 B3', 'R2 B2 W2', 'R2 R4 R1', 'R2 W1 B3', 'R4 R3 B1', 'R3 R1 W2', 'R3 B3 B2', 'R2 R4 B2', 'R3 B2 R1', 'R2 R3 W2', 'R4 R3 B2', 'R2 R4 B1', 'R2 R4 W2', 'B3 B1 R1', 'W1 B1 W2', 'R3 B2 B1', 'R2 B3 W2', 'R2 B3 R1', 'R4 W1 B3', 'W1 B2 B1', 'R3 B1 R1', 'W1 B3 R1', 'R2 R3 W1', 'R4 B3 R1', 'R3 W1 B3', 'R3 B1 W2', 'R4 W1 B1', 'R4 W1 W2', 'R2 R3 B3', 'W1 B2 R1', 'R3 B3 W2', 'R4 W1 R1', 'R4 B1 W2', 'B3 B2 R1', 'R2 B1 R1', 'B2 B1 W2', 'R2 W1 B2', 'R2 B3 B2', 'W1 R1 W2', 'R2 B2 R1', 'R4 R1 W2', 'R4 R3 W1', 'R4 B2 W2', 'R2 B3 B1', 'R3 B3 R1', 'W1 B1 R1', 'B2 R1 W2', 'W1 B3 B2', 'R4 B2 R1', 'R4 R3 W2', 'R3 W1 B1', 'W1 B3 B1', 'R3 B3 B1', 'R4 B3 B1', 'R2 R3 R1', 'R2 R1 W2', 'R4 B2 B1', 'R4 B3 B2', 'R2 R4 W1', 'R3 B2 W2', 'R2 R4 B3', 'R3 W1 W2', 'R4 R3 R1', 'R3 W1 R1', 'W1 B2 W2', 'W1 B3 W2', 'R2 R3 B1', 'R2 B2 B1', 'R4 W1 B2'}\n",
            "c) List all the cases that 3 balls 1 white ball, 1 blue ball, and1 red ball: \n",
            "{'R4 B1 W2', 'R2 W1 B3', 'B1 R1 W2', 'R2 W1 B2', 'R4 B3 W2', 'R4 B2 W2', 'R3 B2 W2', 'R2 B3 W2', 'R4 W1 B3', 'W1 B1 R1', 'B2 R1 W2', 'R4 W1 B2', 'B3 R1 W2', 'W1 B3 R1', 'R2 W1 B1', 'R3 W1 B3', 'R2 B1 W2', 'R3 B1 W2', 'R3 W1 B1', 'R4 W1 B1', 'R3 W1 B2', 'W1 B2 R1', 'R3 B3 W2', 'R2 B2 W2'}\n"
          ]
        }
      ],
      "source": [
        "#Exercise04\n",
        "\n",
        "#a\n",
        "def cross(A, B):\n",
        "    return {a + b for a in A for b in B}\n",
        "urn = cross('W', '12') | cross('B', '123') | cross ('R', '1234')\n",
        "\n",
        "import itertools\n",
        "\n",
        "def combos(items , n):\n",
        "  '''All combinations of n items; each combo as a\n",
        "  concatenated str.'''\n",
        "  return {' '.join(combo) for combo in itertools.\n",
        "  combinations(items , n)}\n",
        "\n",
        "print(\"a) URN: \")\n",
        "print(urn)\n",
        "\n",
        "#b\n",
        "U3 = combos(urn, 3)\n",
        "print(\"b) Subset of 3 balls: \")\n",
        "print(U3)\n",
        "\n",
        "#c\n",
        "white1blue1red1 = {s for s in U3 if s.count('W') == 1 and s.count('B'\n",
        ") == 1 and s.count('R') == 1}\n",
        "print(\"c) List all the cases that 3 balls 1 white ball, 1 blue ball, and1 red ball: \")\n",
        "print(white1blue1red1)"
      ]
    },
    {
      "cell_type": "code",
      "execution_count": 5,
      "metadata": {
        "colab": {
          "base_uri": "https://localhost:8080/"
        },
        "id": "LqDhoxtTaTR_",
        "outputId": "abf54219-3089-436a-9bfa-7d43fa69b28e"
      },
      "outputs": [
        {
          "name": "stdout",
          "output_type": "stream",
          "text": [
            "a) Probability of 5 cards make a straight theory:  0.0004951980792316927\n",
            "b) Probability of 5 cards make a straight experiment:  0.0047\n"
          ]
        }
      ],
      "source": [
        "#Exercise05\n",
        "import random\n",
        "import itertools\n",
        "#a\n",
        "def prob_straight_theory():\n",
        "  n = 52\n",
        "  k = 5\n",
        "  total_hands = itertools.combinations(range(n), k)\n",
        "\n",
        "  m = 13\n",
        "  straight_hands = itertools.combinations(range(m), k)\n",
        "\n",
        "  prob = len(list(straight_hands)) / len(list(total_hands))\n",
        "\n",
        "  return prob\n",
        "print(\"a) Probability of 5 cards make a straight theory: \", end = \" \")\n",
        "print(prob_straight_theory())\n",
        "\n",
        "#b\n",
        "deck = list(range(1, 14)) * 4\n",
        "\n",
        "def prob_straight_experiment(n):\n",
        "  count = 0\n",
        "\n",
        "  for i in range(n):\n",
        "    pick = random.sample(deck, 5)\n",
        "    pick.sort()\n",
        "    if pick == [pick[0], pick[0]+1, pick[0]+2, pick[0]+3, pick[0]+4]:\n",
        "      count += 1\n",
        "\n",
        "  return count / n\n",
        "print(\"b) Probability of 5 cards make a straight experiment: \", end = \" \")\n",
        "print(prob_straight_experiment(10000))"
      ]
    },
    {
      "cell_type": "code",
      "execution_count": 6,
      "metadata": {
        "colab": {
          "base_uri": "https://localhost:8080/"
        },
        "id": "DXzlY1YLe1cf",
        "outputId": "de72c86d-da5b-410b-f481-f9edf793bc6a"
      },
      "outputs": [
        {
          "name": "stdout",
          "output_type": "stream",
          "text": [
            "All 3-digits numbers in which every digit is an element in E: \n",
            "[100, 101, 102, 103, 104, 105, 110, 111, 112, 113, 114, 115, 120, 121, 122, 123, 124, 125, 130, 131, 132, 133, 134, 135, 140, 141, 142, 143, 144, 145, 150, 151, 152, 153, 154, 155, 200, 201, 202, 203, 204, 205, 210, 211, 212, 213, 214, 215, 220, 221, 222, 223, 224, 225, 230, 231, 232, 233, 234, 235, 240, 241, 242, 243, 244, 245, 250, 251, 252, 253, 254, 255, 300, 301, 302, 303, 304, 305, 310, 311, 312, 313, 314, 315, 320, 321, 322, 323, 324, 325, 330, 331, 332, 333, 334, 335, 340, 341, 342, 343, 344, 345, 350, 351, 352, 353, 354, 355, 400, 401, 402, 403, 404, 405, 410, 411, 412, 413, 414, 415, 420, 421, 422, 423, 424, 425, 430, 431, 432, 433, 434, 435, 440, 441, 442, 443, 444, 445, 450, 451, 452, 453, 454, 455, 500, 501, 502, 503, 504, 505, 510, 511, 512, 513, 514, 515, 520, 521, 522, 523, 524, 525, 530, 531, 532, 533, 534, 535, 540, 541, 542, 543, 544, 545, 550, 551, 552, 553, 554, 555]\n",
            "All 4-digits numbers in which every digit is an element in E: \n",
            "[1023, 1024, 1025, 1032, 1034, 1035, 1042, 1043, 1045, 1052, 1053, 1054, 1203, 1204, 1205, 1230, 1234, 1235, 1240, 1243, 1245, 1250, 1253, 1254, 1302, 1304, 1305, 1320, 1324, 1325, 1340, 1342, 1345, 1350, 1352, 1354, 1402, 1403, 1405, 1420, 1423, 1425, 1430, 1432, 1435, 1450, 1452, 1453, 1502, 1503, 1504, 1520, 1523, 1524, 1530, 1532, 1534, 1540, 1542, 1543, 2013, 2014, 2015, 2031, 2034, 2035, 2041, 2043, 2045, 2051, 2053, 2054, 2103, 2104, 2105, 2130, 2134, 2135, 2140, 2143, 2145, 2150, 2153, 2154, 2301, 2304, 2305, 2310, 2314, 2315, 2340, 2341, 2345, 2350, 2351, 2354, 2401, 2403, 2405, 2410, 2413, 2415, 2430, 2431, 2435, 2450, 2451, 2453, 2501, 2503, 2504, 2510, 2513, 2514, 2530, 2531, 2534, 2540, 2541, 2543, 3012, 3014, 3015, 3021, 3024, 3025, 3041, 3042, 3045, 3051, 3052, 3054, 3102, 3104, 3105, 3120, 3124, 3125, 3140, 3142, 3145, 3150, 3152, 3154, 3201, 3204, 3205, 3210, 3214, 3215, 3240, 3241, 3245, 3250, 3251, 3254, 3401, 3402, 3405, 3410, 3412, 3415, 3420, 3421, 3425, 3450, 3451, 3452, 3501, 3502, 3504, 3510, 3512, 3514, 3520, 3521, 3524, 3540, 3541, 3542, 4012, 4013, 4015, 4021, 4023, 4025, 4031, 4032, 4035, 4051, 4052, 4053, 4102, 4103, 4105, 4120, 4123, 4125, 4130, 4132, 4135, 4150, 4152, 4153, 4201, 4203, 4205, 4210, 4213, 4215, 4230, 4231, 4235, 4250, 4251, 4253, 4301, 4302, 4305, 4310, 4312, 4315, 4320, 4321, 4325, 4350, 4351, 4352, 4501, 4502, 4503, 4510, 4512, 4513, 4520, 4521, 4523, 4530, 4531, 4532, 5012, 5013, 5014, 5021, 5023, 5024, 5031, 5032, 5034, 5041, 5042, 5043, 5102, 5103, 5104, 5120, 5123, 5124, 5130, 5132, 5134, 5140, 5142, 5143, 5201, 5203, 5204, 5210, 5213, 5214, 5230, 5231, 5234, 5240, 5241, 5243, 5301, 5302, 5304, 5310, 5312, 5314, 5320, 5321, 5324, 5340, 5341, 5342, 5401, 5402, 5403, 5410, 5412, 5413, 5420, 5421, 5423, 5430, 5431, 5432]\n"
          ]
        }
      ],
      "source": [
        "#Exercise06\n",
        "import itertools\n",
        "\n",
        "E = [0, 1, 2, 3, 4, 5]\n",
        "\n",
        "#a  List all 3-digits numbers in which every digit is an element in E\n",
        "numbers = []\n",
        "for i in E:\n",
        "  if(i != 0):\n",
        "    for j in E:\n",
        "      for k in E:\n",
        "        number = i*100 + j*10 + k\n",
        "        numbers.append(number)\n",
        "print(\"All 3-digits numbers in which every digit is an element in E: \")\n",
        "print(numbers)\n",
        "\n",
        "#b  List all 4-digits numbers in which all digits are pairwise different and every digit is an element in E\n",
        "numbers1 = []\n",
        "for i in E:\n",
        "  if(i != 0):\n",
        "    for j in E:\n",
        "      for k in E:\n",
        "        for l in E:\n",
        "          if (i!=j and i!=k and i!=l and j!=k and j!=l and k!=l):\n",
        "            number1 = i*1000 + j*100 + k*10 + l\n",
        "            numbers1.append(number1)\n",
        "print(\"All 4-digits numbers in which every digit is an element in E: \")\n",
        "print(numbers1)"
      ]
    }
  ],
  "metadata": {
    "colab": {
      "provenance": []
    },
    "kernelspec": {
      "display_name": "Python 3",
      "name": "python3"
    },
    "language_info": {
      "codemirror_mode": {
        "name": "ipython",
        "version": 3
      },
      "file_extension": ".py",
      "mimetype": "text/x-python",
      "name": "python",
      "nbconvert_exporter": "python",
      "pygments_lexer": "ipython3",
      "version": "3.12.0"
    }
  },
  "nbformat": 4,
  "nbformat_minor": 0
}
